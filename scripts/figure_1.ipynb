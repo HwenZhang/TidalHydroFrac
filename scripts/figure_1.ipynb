{
 "cells": [
  {
   "cell_type": "code",
   "execution_count": 1,
   "metadata": {},
   "outputs": [
    {
     "data": {
      "image/png": "[encoded data removed]",
      "text/plain": [
       "<Figure size 360x216 with 1 Axes>"
      ]
     },
     "metadata": {
      "needs_background": "light"
     },
     "output_type": "display_data"
    }
   ],
   "source": [
    "#======================= import essential libraries===========================\n",
    "import numpy as np\n",
    "import vtk as vtk\n",
    "import matplotlib.pyplot as plt\n",
    "import matplotlib.patches as patches\n",
    "\n",
    "def bedrock(x):\n",
    "    return (200-0.02*x)\n",
    "def b(x):\n",
    "    return 0.5*(np.abs(200-0.02*x)+(200-0.02*x))\n",
    "\n",
    "#======================= input parameters ===========================\n",
    "Hght = 500                   # Height(m)\n",
    "Lngth = 2e4                  # Lngth(m)               \n",
    "tol = 1e-3                   # Tolerance(m)\n",
    "T = 0.5*3.154e7/(12.0*30.0)  # solar tide period\n",
    "sea_level = Hght*0.917       # sea level(m)\n",
    "r_lake = 0.5e3               # range of lake (m)\n",
    "\n",
    "# plot settings\n",
    "fs = 15                      # FontSize\n",
    "marker = 6                   # MarkerType\n",
    "\n",
    "X = np.linspace(0,Lngth,100) # x-grid\n",
    "top_bound=b(X)+Hght           # top bound\n",
    "\n",
    "#=========================== Figure 1 ==============================\n",
    "fig,ax = plt.subplots(figsize=(5,3), constrained_layout=False)\n",
    "plt.rcParams[\"figure.dpi\"] = 300\n",
    "plt.style.use('classic')\n",
    "#---------------------------- color --------------------------------\n",
    "plt.fill_between(X,bedrock(X),b(X),facecolor='royalblue',alpha=0.5)\n",
    "plt.fill_between(X,-1000*np.ones(np.size(X)),bedrock(X),facecolor='burlywood',alpha=1.0)\n",
    "plt.plot(X,bedrock(X),color='k',linewidth=1.5,label=r'$\\beta$') # bedrock\n",
    "plt.plot(X,b(X),color='k',linewidth=1.5,label=r'$s>\\beta$') # ice-water interface\n",
    "plt.plot(X,top_bound,color='k',linewidth=1.5,label=r'$h$') # surface\n",
    "\n",
    "#-------------------------- grounding line -------------------------\n",
    "line1 = ax.scatter(1e4, b(1e4), marker=marker, c='k', s=50)\n",
    "ax.scatter(1e4, b(1e4), marker=marker, c='k', s=50)\n",
    "\n",
    "# inflow\n",
    "for ih,hh in enumerate([0.1,0.3,0.5,0.7,0.9]):\n",
    "    arr1 = patches.FancyArrowPatch((0,200+hh*Hght),(1.5e3,200+hh*Hght-1.5e3*0.02), arrowstyle='->', mutation_scale=15)\n",
    "    ax.add_patch(arr1)\n",
    "\n",
    "#-------------------------- annotation -------------------------\n",
    "top = plt.annotate(r\"$\\Gamma_h\\left(x,t\\right)$\",xy=(10.0e3,530),fontsize=fs-2, math_fontfamily='dejavusans')\n",
    "ice_bed = plt.annotate(r\"$\\Gamma_s\\left(x,t\\right)$\",xy=(4.0e3,b(5.0e3)+50),fontsize=fs-2, math_fontfamily='dejavusans')\n",
    "ice_water = plt.annotate(r\"$\\Gamma_w\\left(x,t\\right)$\",xy=(14.0e3,50),fontsize=fs-2, math_fontfamily='dejavusans')\n",
    "outflow = plt.annotate(r\"$\\Gamma_{out}\\left(x,t\\right)$\",xy=(16.0e3,250),fontsize=fs-2, math_fontfamily='dejavusans')\n",
    "inflow = plt.annotate(r\"$\\Gamma_{in}\\left(x,t\\right)$\",xy=(-3.0e3,350),fontsize=fs-2, math_fontfamily='dejavusans')\n",
    "gl = plt.annotate(r\"$x_g\\left(t\\right)$\",xy=(9.0e3,50),fontsize=fs-2, math_fontfamily='dejavusans')\n",
    "\n",
    "plt.annotate(r\"bedrock\",xy=(3.0e3,-100),fontsize=fs-2)\n",
    "plt.annotate(r\"ocean\",xy=(16.0e3,-100),fontsize=fs-2)\n",
    "plt.annotate(r\"ice\",xy=(9.0e3,350),fontsize=fs-2)\n",
    "\n",
    "ax.plot([5e3,10e3],[0,0],linestyle='--',color='k',linewidth=1.5)\n",
    "plt.annotate(r\"$\\theta$\",xy=(6e3,20),fontsize=fs-2)\n",
    "\n",
    "#---------------------------- y axis --------------------------------\n",
    "plt.yticks([0,200,700],[r'$0$',r'$L\\tan\\theta$',r'$H+L\\tan\\theta$'],\\\n",
    "                   fontsize=fs-2, math_fontfamily='dejavusans')\n",
    "plt.ylabel(r\"$\\Gamma_{in}\\left(x,t\\right)$\",fontsize=fs-2, rotation=0, math_fontfamily='dejavusans')\n",
    "ax.yaxis.set_label_coords(-0.10, 0.65)\n",
    "#---------------------------- x axis --------------------------------\n",
    "plt.xlabel(r'$x$',fontsize=fs-2, math_fontfamily='dejavusans')\n",
    "plt.xticks(2*np.array([0.0e3,10e3]),\\\n",
    "           [r'$-L$',r'$L$'],\\\n",
    "           fontsize=fs-2, math_fontfamily='dejavusans')\n",
    "ax.xaxis.set_label_coords(0.5, -0.05)\n",
    "\n",
    "plt.ylim(-200,700.0,8)\n",
    "plt.xlim(0.0*Lngth,Lngth)\n",
    "\n",
    "plt.savefig('../figures/figure_1.pdf',bbox_inches='tight',dpi=300)\n",
    "# plt.savefig('../figures/figure_1(high-resolution).tiff',bbox_inches='tight',dpi=600)"
   ]
  }
 ],
 "metadata": {
  "kernelspec": {
   "display_name": "branch-env",
   "language": "python",
   "name": "python3"
  },
  "language_info": {
   "codemirror_mode": {
    "name": "ipython",
    "version": 3
   },
   "file_extension": ".py",
   "mimetype": "text/x-python",
   "name": "python",
   "nbconvert_exporter": "python",
   "pygments_lexer": "ipython3",
   "version": "3.8.8"
  },
  "orig_nbformat": 4
 },
 "nbformat": 4,
 "nbformat_minor": 2
}
